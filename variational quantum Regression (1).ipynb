{
 "cells": [
  {
   "cell_type": "code",
   "execution_count": 11,
   "id": "b2cc2757-3843-44b9-a566-2a6b221104ff",
   "metadata": {
    "tags": []
   },
   "outputs": [],
   "source": [
    "# importing necessary packages\n",
    "import qiskit\n",
    "from qiskit import QuantumCircuit, QuantumRegister, ClassicalRegister\n",
    "from qiskit import Aer, execute\n",
    "import math\n",
    "import random\n",
    "import numpy as np\n",
    "import matplotlib.pyplot as plt\n",
    "from scipy.optimize import minimize\n",
    "import pandas as pd"
   ]
  },
  {
   "cell_type": "code",
   "execution_count": 21,
   "id": "3bd5d05f-a3de-4636-a3cf-1d6c352a9246",
   "metadata": {
    "tags": []
   },
   "outputs": [],
   "source": [
    "data = pd.read_csv('agridata333.csv')\n"
   ]
  },
  {
   "cell_type": "code",
   "execution_count": 22,
   "id": "66b3ec04-9247-40d6-a08e-f1b0529f2a2c",
   "metadata": {
    "tags": []
   },
   "outputs": [
    {
     "data": {
      "image/png": "[encoded data removed]",
      "text/plain": [
       "<Figure size 1290.83x702.333 with 1 Axes>"
      ]
     },
     "execution_count": 22,
     "metadata": {},
     "output_type": "execute_result"
    }
   ],
   "source": [
    "x = data['N']  # define some vectors x and y\n",
    "y = data['P']\n",
    "\n",
    "N = len(x)              \n",
    "nqubits = math.ceil(np.log2(N))    # compute how many qubits needed to encode either x or y\n",
    "\n",
    "xnorm = np.linalg.norm(x)          # normalise vectors x and y\n",
    "ynorm = np.linalg.norm(y)\n",
    "x = x/xnorm\n",
    "y = y/ynorm\n",
    "\n",
    "circ = QuantumCircuit(nqubits+1)   # create circuit\n",
    "vec = np.concatenate((x,y))/np.sqrt(2)    # concatenate x and y as above, with renormalisation\n",
    "\n",
    "circ.initialize(vec, range(nqubits+1))\n",
    "circ.h(nqubits)                    # apply hadamard to bottom qubit\n",
    "\n",
    "circ.draw()                        # draw the circuit"
   ]
  },
  {
   "cell_type": "code",
   "execution_count": 23,
   "id": "eeab9f41-f9bc-432a-94b1-cff34c912f4d",
   "metadata": {
    "tags": []
   },
   "outputs": [
    {
     "name": "stdout",
     "output_type": "stream",
     "text": [
      "x:  [0.         0.08451543 0.16903085 0.25354628 0.3380617  0.42257713\n",
      " 0.50709255 0.59160798]\n",
      "\n",
      "y:  [0.         0.08451543 0.16903085 0.25354628 0.3380617  0.42257713\n",
      " 0.50709255 0.59160798]\n",
      "\n",
      "The inner product of x and y equals:  0.9999999999999996\n"
     ]
    }
   ],
   "source": [
    "#Creates a quantum circuit to calculate the inner product between two normalised vectors\n",
    "\n",
    "def inner_prod(vec1, vec2):\n",
    "    #first check lengths are equal\n",
    "    if len(vec1) != len(vec2):\n",
    "        raise ValueError('Lengths of states are not equal')\n",
    "        \n",
    "    circ = QuantumCircuit(nqubits+1)\n",
    "    vec = np.concatenate((vec1,vec2))/np.sqrt(2)\n",
    "    \n",
    "    circ.initialize(vec, range(nqubits+1))\n",
    "    circ.h(nqubits)\n",
    "\n",
    "    backend = Aer.get_backend('statevector_simulator')\n",
    "    job = execute(circ, backend)\n",
    "    \n",
    "    result = job.result()\n",
    "    o = np.real(result.get_statevector(circ))\n",
    "\n",
    "    m_sum = 0\n",
    "    for l in range(N):\n",
    "        m_sum += o[l]**2\n",
    "        \n",
    "    return 2*m_sum-1\n",
    "\n",
    "x = np.arange(0,8,1)\n",
    "y = x\n",
    "\n",
    "N = len(x)\n",
    "nqubits = math.ceil(np.log2(N))\n",
    "xnorm = np.linalg.norm(x)\n",
    "ynorm = np.linalg.norm(y)\n",
    "x = x/xnorm\n",
    "y = y/ynorm\n",
    "\n",
    "print(\"x: \", x)\n",
    "print()\n",
    "print(\"y: \", y)\n",
    "print()\n",
    "print(\"The inner product of x and y equals: \", inner_prod(x,y))"
   ]
  },
  {
   "cell_type": "code",
   "execution_count": 24,
   "id": "aa19ece1-7426-43f3-88db-9888df406b76",
   "metadata": {
    "tags": []
   },
   "outputs": [
    {
     "name": "stdout",
     "output_type": "stream",
     "text": [
      "Cost function for a = 1.0 and b = 1.0 equals: 0.03999999999999998\n"
     ]
    }
   ],
   "source": [
    "#Implements the entire cost function by feeding the ansatz to the quantum circuit which computes inner products\n",
    "\n",
    "def calculate_cost_function(parameters):\n",
    "\n",
    "    a, b = parameters\n",
    "    \n",
    "    ansatz = a*x + b                        # compute ansatz\n",
    "    ansatzNorm = np.linalg.norm(ansatz)     # normalise ansatz\n",
    "    ansatz = ansatz/ansatzNorm\n",
    "    \n",
    "    y_ansatz = ansatzNorm/ynorm * inner_prod(y,ansatz)     # use quantum circuit to test ansatz\n",
    "                                                           # note the normalisation factors\n",
    "    return (1-y_ansatz)**2\n",
    "\n",
    "x = np.arange(0,8,1)\n",
    "y = x\n",
    "\n",
    "N = len(x)\n",
    "nqubits = math.ceil(np.log2(N))\n",
    "ynorm = np.linalg.norm(y)\n",
    "y = y/ynorm\n",
    "\n",
    "a = 1.0\n",
    "b = 1.0\n",
    "print(\"Cost function for a =\", a, \"and b =\", b, \"equals:\", calculate_cost_function([a,b]))"
   ]
  },
  {
   "cell_type": "code",
   "execution_count": 25,
   "id": "78a78247-13ff-4e7d-81bb-616537a88ba1",
   "metadata": {
    "tags": []
   },
   "outputs": [
    {
     "data": {
      "image/png": "[encoded data removed]",
      "text/plain": [
       "<Figure size 640x480 with 1 Axes>"
      ]
     },
     "metadata": {},
     "output_type": "display_data"
    }
   ],
   "source": [
    "#first set up the data sets x and y\n",
    "\n",
    "x = np.arange(0,8,1)\n",
    "y = x   # + [random.uniform(-1,1) for p in range(8)]    # can add noise here\n",
    "N = len(x)\n",
    "nqubits = math.ceil(np.log2(N))\n",
    "       \n",
    "ynorm = np.linalg.norm(y)      # normalise the y data set\n",
    "y = y/ynorm\n",
    "\n",
    "x0 = [0.5,0.5]                 # initial guess for a and b\n",
    "\n",
    "#now use different classical optimisers to see which one works best\n",
    "\n",
    "out = minimize(calculate_cost_function, x0=x0, method=\"BFGS\", options={'maxiter':200}, tol=1e-6)\n",
    "out1 = minimize(calculate_cost_function, x0=x0, method=\"COBYLA\", options={'maxiter':200}, tol=1e-6)\n",
    "out2 = minimize(calculate_cost_function, x0=x0, method=\"Nelder-Mead\", options={'maxiter':200}, tol=1e-6)\n",
    "out3 = minimize(calculate_cost_function, x0=x0, method=\"CG\", options={'maxiter':200}, tol=1e-6)\n",
    "out4 = minimize(calculate_cost_function, x0=x0, method=\"trust-constr\", options={'maxiter':200}, tol=1e-6)\n",
    "\n",
    "out_a1 = out1['x'][0]\n",
    "out_b1 = out1['x'][1]\n",
    "\n",
    "out_a = out['x'][0]\n",
    "out_b = out['x'][1]\n",
    "\n",
    "out_a2 = out2['x'][0]\n",
    "out_b2 = out2['x'][1]\n",
    "\n",
    "out_a3 = out3['x'][0]\n",
    "out_b3 = out3['x'][1]\n",
    "\n",
    "out_a4 = out4['x'][0]\n",
    "out_b4 = out4['x'][1]\n",
    "\n",
    "plt.scatter(x,y*ynorm)\n",
    "xfit = np.linspace(min(x), max(x), 100)\n",
    "plt.plot(xfit, out_a*xfit+out_b, label='BFGS')\n",
    "plt.plot(xfit, out_a1*xfit+out_b1, label='COBYLA')\n",
    "plt.plot(xfit, out_a2*xfit+out_b2, label='Nelder-Mead')\n",
    "plt.plot(xfit, out_a3*xfit+out_b3, label='CG')\n",
    "plt.plot(xfit, out_a4*xfit+out_b4, label='trust-constr')\n",
    "plt.legend()\n",
    "plt.title(\"y = x\")\n",
    "plt.xlabel(\"x\")\n",
    "plt.ylabel(\"y\")\n",
    "plt.show()"
   ]
  },
  {
   "cell_type": "code",
   "execution_count": null,
   "id": "e2ce2422-f701-4a8f-b657-6cbbb9f669d5",
   "metadata": {},
   "outputs": [],
   "source": []
  }
 ],
 "metadata": {
  "kernelspec": {
   "display_name": "Python 3 (ipykernel)",
   "language": "python",
   "name": "python3"
  },
  "language_info": {
   "codemirror_mode": {
    "name": "ipython",
    "version": 3
   },
   "file_extension": ".py",
   "mimetype": "text/x-python",
   "name": "python",
   "nbconvert_exporter": "python",
   "pygments_lexer": "ipython3",
   "version": "3.10.8"
  },
  "widgets": {
   "application/vnd.jupyter.widget-state+json": {
    "state": {
     "18fe3f9d6c7c4b73a9421af9e0e3b2a0": {
      "model_module": "@jupyter-widgets/base",
      "model_module_version": "2.0.0",
      "model_name": "LayoutModel",
      "state": {
       "width": "95px"
      }
     },
     "2acda96173e546eaa904e4a1d85fe4cf": {
      "model_module": "@jupyter-widgets/base",
      "model_module_version": "2.0.0",
      "model_name": "LayoutModel",
      "state": {
       "margin": "0px 0px 0px 37px",
       "width": "600px"
      }
     },
     "2f8bdc273e294eb584995e51e5955f1d": {
      "model_module": "@jupyter-widgets/controls",
      "model_module_version": "2.0.0",
      "model_name": "HTMLModel",
      "state": {
       "layout": "IPY_MODEL_dce1e2d9e0bd4104becaf852b64af5f4",
       "style": "IPY_MODEL_69aab968d1504d2fb2adca70a98bff20",
       "value": "<h5>Message</h5>"
      }
     },
     "39dc5fb9ff9845f3a89eed7e0b7bd378": {
      "model_module": "@jupyter-widgets/controls",
      "model_module_version": "2.0.0",
      "model_name": "HTMLStyleModel",
      "state": {
       "description_width": "",
       "font_size": null,
       "text_color": null
      }
     },
     "3ea8a218b4024eebb3d6dda1e10f3ea4": {
      "model_module": "@jupyter-widgets/base",
      "model_module_version": "2.0.0",
      "model_name": "LayoutModel",
      "state": {
       "margin": "0px 0px 10px 0px"
      }
     },
     "42ce49faee204344bbb218105d473492": {
      "model_module": "@jupyter-widgets/controls",
      "model_module_version": "2.0.0",
      "model_name": "ButtonModel",
      "state": {
       "button_style": "primary",
       "description": "Clear",
       "layout": "IPY_MODEL_91ba9d119207410b9d600bcc8d792cbc",
       "style": "IPY_MODEL_70735caede1d4167bed2b92e47bdc07d",
       "tooltip": null
      }
     },
     "49fbd32f354f4e78b869067b79fa7665": {
      "model_module": "@jupyter-widgets/controls",
      "model_module_version": "2.0.0",
      "model_name": "GridBoxModel",
      "state": {
       "children": [
        "IPY_MODEL_42ce49faee204344bbb218105d473492"
       ],
       "layout": "IPY_MODEL_c7be39487d334001924377998b20b6bf"
      }
     },
     "4bad6efce4734fbdad0988d310ce003d": {
      "model_module": "@jupyter-widgets/controls",
      "model_module_version": "2.0.0",
      "model_name": "HBoxModel",
      "state": {
       "children": [
        "IPY_MODEL_4d790c7daf7f4abbb1dd75cb1a7a8377",
        "IPY_MODEL_6b6910b7d7f341c0af294957f86b8eff",
        "IPY_MODEL_f6151892ed5f43d7b829208e23f91d5d",
        "IPY_MODEL_76e317def23a41b28ec28169adc18f19",
        "IPY_MODEL_2f8bdc273e294eb584995e51e5955f1d"
       ],
       "layout": "IPY_MODEL_2acda96173e546eaa904e4a1d85fe4cf"
      }
     },
     "4cb968700296444882699ee5eda006fd": {
      "model_module": "@jupyter-widgets/controls",
      "model_module_version": "2.0.0",
      "model_name": "HTMLModel",
      "state": {
       "layout": "IPY_MODEL_3ea8a218b4024eebb3d6dda1e10f3ea4",
       "style": "IPY_MODEL_9d86e34425b5460199b9aa1390a445de",
       "value": "<p style='font-family: IBM Plex Sans, Arial, Helvetica, sans-serif; font-size: 20px; font-weight: medium;'>Circuit Properties</p>"
      }
     },
     "4d790c7daf7f4abbb1dd75cb1a7a8377": {
      "model_module": "@jupyter-widgets/controls",
      "model_module_version": "2.0.0",
      "model_name": "HTMLModel",
      "state": {
       "layout": "IPY_MODEL_9cb91658858d4596a90be3dfc49d4e4c",
       "style": "IPY_MODEL_39dc5fb9ff9845f3a89eed7e0b7bd378",
       "value": "<h5>Job ID</h5>"
      }
     },
     "69aab968d1504d2fb2adca70a98bff20": {
      "model_module": "@jupyter-widgets/controls",
      "model_module_version": "2.0.0",
      "model_name": "HTMLStyleModel",
      "state": {
       "description_width": "",
       "font_size": null,
       "text_color": null
      }
     },
     "6b6910b7d7f341c0af294957f86b8eff": {
      "model_module": "@jupyter-widgets/controls",
      "model_module_version": "2.0.0",
      "model_name": "HTMLModel",
      "state": {
       "layout": "IPY_MODEL_a0ce023c8b0649a48ef56344c11f64e9",
       "style": "IPY_MODEL_c27e64c177aa48f88b6a7d079ccf9ee9",
       "value": "<h5>Backend</h5>"
      }
     },
     "70735caede1d4167bed2b92e47bdc07d": {
      "model_module": "@jupyter-widgets/controls",
      "model_module_version": "2.0.0",
      "model_name": "ButtonStyleModel",
      "state": {
       "font_family": null,
       "font_size": null,
       "font_style": null,
       "font_variant": null,
       "font_weight": null,
       "text_color": null,
       "text_decoration": null
      }
     },
     "76e317def23a41b28ec28169adc18f19": {
      "model_module": "@jupyter-widgets/controls",
      "model_module_version": "2.0.0",
      "model_name": "HTMLModel",
      "state": {
       "layout": "IPY_MODEL_a36672ad6be844ad93ab92bbeb34bb21",
       "style": "IPY_MODEL_9fc03e8b98b94507ac27e15e1b5db236",
       "value": "<h5>Queue</h5>"
      }
     },
     "91ba9d119207410b9d600bcc8d792cbc": {
      "model_module": "@jupyter-widgets/base",
      "model_module_version": "2.0.0",
      "model_name": "LayoutModel",
      "state": {
       "grid_area": "right",
       "padding": "0px 0px 0px 0px",
       "width": "70px"
      }
     },
     "9cb91658858d4596a90be3dfc49d4e4c": {
      "model_module": "@jupyter-widgets/base",
      "model_module_version": "2.0.0",
      "model_name": "LayoutModel",
      "state": {
       "width": "190px"
      }
     },
     "9d86e34425b5460199b9aa1390a445de": {
      "model_module": "@jupyter-widgets/controls",
      "model_module_version": "2.0.0",
      "model_name": "HTMLStyleModel",
      "state": {
       "description_width": "",
       "font_size": null,
       "text_color": null
      }
     },
     "9fc03e8b98b94507ac27e15e1b5db236": {
      "model_module": "@jupyter-widgets/controls",
      "model_module_version": "2.0.0",
      "model_name": "HTMLStyleModel",
      "state": {
       "description_width": "",
       "font_size": null,
       "text_color": null
      }
     },
     "a0ce023c8b0649a48ef56344c11f64e9": {
      "model_module": "@jupyter-widgets/base",
      "model_module_version": "2.0.0",
      "model_name": "LayoutModel",
      "state": {
       "width": "145px"
      }
     },
     "a36672ad6be844ad93ab92bbeb34bb21": {
      "model_module": "@jupyter-widgets/base",
      "model_module_version": "2.0.0",
      "model_name": "LayoutModel",
      "state": {
       "width": "70px"
      }
     },
     "c27e64c177aa48f88b6a7d079ccf9ee9": {
      "model_module": "@jupyter-widgets/controls",
      "model_module_version": "2.0.0",
      "model_name": "HTMLStyleModel",
      "state": {
       "description_width": "",
       "font_size": null,
       "text_color": null
      }
     },
     "c7be39487d334001924377998b20b6bf": {
      "model_module": "@jupyter-widgets/base",
      "model_module_version": "2.0.0",
      "model_name": "LayoutModel",
      "state": {
       "grid_template_areas": "\n                                       \". . . . right \"\n                                        ",
       "grid_template_columns": "20% 20% 20% 20% 20%",
       "width": "100%"
      }
     },
     "d483e2b5b55749aeb68df5215daa74f7": {
      "model_module": "@jupyter-widgets/controls",
      "model_module_version": "2.0.0",
      "model_name": "HTMLStyleModel",
      "state": {
       "description_width": "",
       "font_size": null,
       "text_color": null
      }
     },
     "dce1e2d9e0bd4104becaf852b64af5f4": {
      "model_module": "@jupyter-widgets/base",
      "model_module_version": "2.0.0",
      "model_name": "LayoutModel",
      "state": {}
     },
     "f6151892ed5f43d7b829208e23f91d5d": {
      "model_module": "@jupyter-widgets/controls",
      "model_module_version": "2.0.0",
      "model_name": "HTMLModel",
      "state": {
       "layout": "IPY_MODEL_18fe3f9d6c7c4b73a9421af9e0e3b2a0",
       "style": "IPY_MODEL_d483e2b5b55749aeb68df5215daa74f7",
       "value": "<h5>Status</h5>"
      }
     }
    },
    "version_major": 2,
    "version_minor": 0
   }
  }
 },
 "nbformat": 4,
 "nbformat_minor": 5
}
