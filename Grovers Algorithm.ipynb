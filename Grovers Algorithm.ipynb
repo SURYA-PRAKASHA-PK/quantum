{
 "cells": [
  {
   "cell_type": "markdown",
   "id": "314b3ca4",
   "metadata": {},
   "source": [
    "# Implementation of grovers algorithm for two Qubit "
   ]
  },
  {
   "cell_type": "markdown",
   "id": "ba854d6c",
   "metadata": {},
   "source": [
    "Grovers algorithm is used to find out the position of the the desired object from the set of objects . classically the time complexity is O(n) but in quantum , the time complexity is O(root(n)). ( where n is the number of objects in the set ).\n"
   ]
  },
  {
   "cell_type": "code",
   "execution_count": 1,
   "id": "ee168eab",
   "metadata": {},
   "outputs": [],
   "source": [
    "from qiskit import *\n",
    "import matplotlib.pyplot as plt\n",
    "import numpy as np\n"
   ]
  },
  {
   "cell_type": "markdown",
   "id": "291cc7d6",
   "metadata": {},
   "source": [
    "creating a oracle function - oc and converting into a gate . \n",
    "oracle is used to rotate the |s> state with respect to |w>\n"
   ]
  },
  {
   "cell_type": "code",
   "execution_count": 2,
   "id": "77366a95",
   "metadata": {},
   "outputs": [
    {
     "data": {
      "image/png": "[encoded data removed]",
      "text/plain": [
       "<Figure size 203.683x200.667 with 1 Axes>"
      ]
     },
     "execution_count": 2,
     "metadata": {},
     "output_type": "execute_result"
    }
   ],
   "source": [
    "oc= QuantumCircuit(2,name='oc')\n",
    "oc.cz(0,1)\n",
    "oc.to_gate()\n",
    "oc.draw(output='mpl')"
   ]
  },
  {
   "cell_type": "code",
   "execution_count": 4,
   "id": "62c79441",
   "metadata": {},
   "outputs": [
    {
     "data": {
      "text/html": [
       "<pre style=\"word-wrap: normal;white-space: pre;background: #fff0;line-height: 1.1;font-family: &quot;Courier New&quot;,Courier,monospace\">     ┌───┐┌─────┐\n",
       "q_0: ┤ H ├┤0    ├\n",
       "     ├───┤│  oc │\n",
       "q_1: ┤ H ├┤1    ├\n",
       "     └───┘└─────┘\n",
       "c: 2/════════════\n",
       "                 </pre>"
      ],
      "text/plain": [
       "     ┌───┐┌─────┐\n",
       "q_0: ┤ H ├┤0    ├\n",
       "     ├───┤│  oc │\n",
       "q_1: ┤ H ├┤1    ├\n",
       "     └───┘└─────┘\n",
       "c: 2/════════════\n",
       "                 "
      ]
     },
     "execution_count": 4,
     "metadata": {},
     "output_type": "execute_result"
    }
   ],
   "source": [
    "backend =Aer.get_backend('statevector_simulator')\n",
    "gc= QuantumCircuit(2,2)\n",
    "gc.h([0,1])\n",
    "gc.append(oc,[0,1])\n",
    "gc.draw()"
   ]
  },
  {
   "cell_type": "code",
   "execution_count": 5,
   "id": "3b399b5e",
   "metadata": {},
   "outputs": [
    {
     "data": {
      "text/plain": [
       "array([ 1.+0.j,  1.+0.j,  1.+0.j, -1.+0.j])"
      ]
     },
     "execution_count": 5,
     "metadata": {},
     "output_type": "execute_result"
    }
   ],
   "source": [
    "job = execute(gc, backend )\n",
    "result= job.result()\n",
    "sv= result.get_statevector()\n",
    "np.around(sv)\n",
    "\n"
   ]
  },
  {
   "cell_type": "markdown",
   "id": "58625316",
   "metadata": {},
   "source": [
    "creating a reflection , where it is a function used to rotate the |s'> with respect to |s> .\n",
    "reflection is kind of an hadamard sandwich where pauli-x and cz gate lies between the two hadamard layers."
   ]
  },
  {
   "cell_type": "code",
   "execution_count": 6,
   "id": "277f9cf8",
   "metadata": {},
   "outputs": [
    {
     "data": {
      "text/plain": [
       "Instruction(name='ref', num_qubits=2, num_clbits=0, params=[])"
      ]
     },
     "execution_count": 6,
     "metadata": {},
     "output_type": "execute_result"
    }
   ],
   "source": [
    "ref = QuantumCircuit(2, name='ref')\n",
    "ref.h([0,1])\n",
    "ref.z([0,1])\n",
    "ref.cz(0,1)\n",
    "ref.h([0,1])\n",
    "ref.to_gate()"
   ]
  },
  {
   "cell_type": "code",
   "execution_count": 7,
   "id": "ca3b5241",
   "metadata": {},
   "outputs": [
    {
     "data": {
      "text/html": [
       "<pre style=\"word-wrap: normal;white-space: pre;background: #fff0;line-height: 1.1;font-family: &quot;Courier New&quot;,Courier,monospace\">     ┌───┐┌───┐   ┌───┐\n",
       "q_0: ┤ H ├┤ Z ├─■─┤ H ├\n",
       "     ├───┤├───┤ │ ├───┤\n",
       "q_1: ┤ H ├┤ Z ├─■─┤ H ├\n",
       "     └───┘└───┘   └───┘</pre>"
      ],
      "text/plain": [
       "     ┌───┐┌───┐   ┌───┐\n",
       "q_0: ┤ H ├┤ Z ├─■─┤ H ├\n",
       "     ├───┤├───┤ │ ├───┤\n",
       "q_1: ┤ H ├┤ Z ├─■─┤ H ├\n",
       "     └───┘└───┘   └───┘"
      ]
     },
     "execution_count": 7,
     "metadata": {},
     "output_type": "execute_result"
    }
   ],
   "source": [
    "ref.draw()"
   ]
  },
  {
   "cell_type": "markdown",
   "id": "03b3eaf2",
   "metadata": {},
   "source": [
    "Both oracle and reflection will be applied iteratively till it reaches the desired state |w> , let us assume it took r times (operaations) to reach the desired state |w> , then r approximately equals to pi/4 (root(N)) , where N is the number of possible input states .  "
   ]
  },
  {
   "cell_type": "code",
   "execution_count": 10,
   "id": "d92e2872",
   "metadata": {},
   "outputs": [
    {
     "data": {
      "image/png": "[encoded data removed]",
      "text/plain": [
       "<Figure size 538.128x284.278 with 1 Axes>"
      ]
     },
     "execution_count": 10,
     "metadata": {},
     "output_type": "execute_result"
    }
   ],
   "source": [
    "backend = Aer.get_backend('qasm_simulator')\n",
    "gc.append(ref,[0,1])\n",
    "gc. measure([0,1],[0,1])\n",
    "gc.draw(output='mpl')"
   ]
  },
  {
   "cell_type": "code",
   "execution_count": 11,
   "id": "e798a5f9",
   "metadata": {},
   "outputs": [
    {
     "name": "stdout",
     "output_type": "stream",
     "text": [
      "{'11': 1}\n"
     ]
    }
   ],
   "source": [
    "job = execute(gc, backend ,shots=1)\n",
    "result= job.result()\n",
    "counts= result.get_counts()\n",
    "print(counts)"
   ]
  },
  {
   "cell_type": "code",
   "execution_count": null,
   "id": "81f2b4d9",
   "metadata": {},
   "outputs": [],
   "source": []
  }
 ],
 "metadata": {
  "kernelspec": {
   "display_name": "Python 3 (ipykernel)",
   "language": "python",
   "name": "python3"
  },
  "language_info": {
   "codemirror_mode": {
    "name": "ipython",
    "version": 3
   },
   "file_extension": ".py",
   "mimetype": "text/x-python",
   "name": "python",
   "nbconvert_exporter": "python",
   "pygments_lexer": "ipython3",
   "version": "3.10.9"
  }
 },
 "nbformat": 4,
 "nbformat_minor": 5
}
